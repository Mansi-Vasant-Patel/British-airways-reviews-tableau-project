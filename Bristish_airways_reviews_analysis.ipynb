{
 "cells": [
  {
   "cell_type": "code",
   "execution_count": 1,
   "metadata": {},
   "outputs": [],
   "source": [
    "import pandas as pd"
   ]
  },
  {
   "cell_type": "code",
   "execution_count": 6,
   "metadata": {},
   "outputs": [
    {
     "data": {
      "text/html": [
       "<div>\n",
       "<style scoped>\n",
       "    .dataframe tbody tr th:only-of-type {\n",
       "        vertical-align: middle;\n",
       "    }\n",
       "\n",
       "    .dataframe tbody tr th {\n",
       "        vertical-align: top;\n",
       "    }\n",
       "\n",
       "    .dataframe thead th {\n",
       "        text-align: right;\n",
       "    }\n",
       "</style>\n",
       "<table border=\"1\" class=\"dataframe\">\n",
       "  <thead>\n",
       "    <tr style=\"text-align: right;\">\n",
       "      <th></th>\n",
       "      <th>Country</th>\n",
       "      <th>Code</th>\n",
       "      <th>Continent</th>\n",
       "      <th>Region</th>\n",
       "    </tr>\n",
       "  </thead>\n",
       "  <tbody>\n",
       "    <tr>\n",
       "      <th>0</th>\n",
       "      <td>Afghanistan</td>\n",
       "      <td>AFG</td>\n",
       "      <td>Asia</td>\n",
       "      <td>Southern Asia</td>\n",
       "    </tr>\n",
       "    <tr>\n",
       "      <th>1</th>\n",
       "      <td>Åland Islands</td>\n",
       "      <td>ALA</td>\n",
       "      <td>Europe</td>\n",
       "      <td>Northern Europe</td>\n",
       "    </tr>\n",
       "    <tr>\n",
       "      <th>2</th>\n",
       "      <td>Albania</td>\n",
       "      <td>ALB</td>\n",
       "      <td>Europe</td>\n",
       "      <td>Southern Europe</td>\n",
       "    </tr>\n",
       "    <tr>\n",
       "      <th>3</th>\n",
       "      <td>Algeria</td>\n",
       "      <td>DZA</td>\n",
       "      <td>Africa</td>\n",
       "      <td>Northern Africa</td>\n",
       "    </tr>\n",
       "    <tr>\n",
       "      <th>4</th>\n",
       "      <td>American Samoa</td>\n",
       "      <td>ASM</td>\n",
       "      <td>Oceania</td>\n",
       "      <td>Polynesia</td>\n",
       "    </tr>\n",
       "  </tbody>\n",
       "</table>\n",
       "</div>"
      ],
      "text/plain": [
       "          Country Code Continent           Region\n",
       "0     Afghanistan  AFG      Asia    Southern Asia\n",
       "1   Åland Islands  ALA    Europe  Northern Europe\n",
       "2         Albania  ALB    Europe  Southern Europe\n",
       "3         Algeria  DZA    Africa  Northern Africa\n",
       "4  American Samoa  ASM   Oceania        Polynesia"
      ]
     },
     "execution_count": 6,
     "metadata": {},
     "output_type": "execute_result"
    }
   ],
   "source": [
    "df1 = pd.read_csv('Countries.csv')\n",
    "df1.head()"
   ]
  },
  {
   "cell_type": "code",
   "execution_count": 2,
   "metadata": {},
   "outputs": [],
   "source": [
    "df = pd.read_csv('ba_reviews.csv')"
   ]
  },
  {
   "cell_type": "code",
   "execution_count": 5,
   "metadata": {},
   "outputs": [
    {
     "data": {
      "text/plain": [
       "(1324, 19)"
      ]
     },
     "execution_count": 5,
     "metadata": {},
     "output_type": "execute_result"
    }
   ],
   "source": [
    "df.shape"
   ]
  },
  {
   "cell_type": "code",
   "execution_count": 3,
   "metadata": {},
   "outputs": [
    {
     "data": {
      "text/html": [
       "<div>\n",
       "<style scoped>\n",
       "    .dataframe tbody tr th:only-of-type {\n",
       "        vertical-align: middle;\n",
       "    }\n",
       "\n",
       "    .dataframe tbody tr th {\n",
       "        vertical-align: top;\n",
       "    }\n",
       "\n",
       "    .dataframe thead th {\n",
       "        text-align: right;\n",
       "    }\n",
       "</style>\n",
       "<table border=\"1\" class=\"dataframe\">\n",
       "  <thead>\n",
       "    <tr style=\"text-align: right;\">\n",
       "      <th></th>\n",
       "      <th>header</th>\n",
       "      <th>author</th>\n",
       "      <th>date</th>\n",
       "      <th>place</th>\n",
       "      <th>content</th>\n",
       "      <th>aircraft</th>\n",
       "      <th>traveller_type</th>\n",
       "      <th>seat_type</th>\n",
       "      <th>route</th>\n",
       "      <th>date_flown</th>\n",
       "      <th>recommended</th>\n",
       "      <th>trip_verified</th>\n",
       "      <th>rating</th>\n",
       "      <th>seat_comfort</th>\n",
       "      <th>cabin_staff_service</th>\n",
       "      <th>food_beverages</th>\n",
       "      <th>ground_service</th>\n",
       "      <th>value_for_money</th>\n",
       "      <th>entertainment</th>\n",
       "    </tr>\n",
       "  </thead>\n",
       "  <tbody>\n",
       "    <tr>\n",
       "      <th>0</th>\n",
       "      <td>service was mediocre at best</td>\n",
       "      <td>Gary Storer</td>\n",
       "      <td>03/10/2023</td>\n",
       "      <td>United Kingdom</td>\n",
       "      <td>Just returned from Chicago, flew out 10 days ...</td>\n",
       "      <td>A380</td>\n",
       "      <td>Couple Leisure</td>\n",
       "      <td>Economy Class</td>\n",
       "      <td>Chicago to Manchester via Heathrow</td>\n",
       "      <td>01/10/2023</td>\n",
       "      <td>no</td>\n",
       "      <td>Not Verified</td>\n",
       "      <td>2</td>\n",
       "      <td>2</td>\n",
       "      <td>3</td>\n",
       "      <td>1</td>\n",
       "      <td>2</td>\n",
       "      <td>2</td>\n",
       "      <td>-1</td>\n",
       "    </tr>\n",
       "    <tr>\n",
       "      <th>1</th>\n",
       "      <td>BA standards continue to decline</td>\n",
       "      <td>A Jensen</td>\n",
       "      <td>02/10/2023</td>\n",
       "      <td>United Kingdom</td>\n",
       "      <td>BA standards continue to decline every time ...</td>\n",
       "      <td>A320</td>\n",
       "      <td>Business</td>\n",
       "      <td>Business Class</td>\n",
       "      <td>London Heathrow to Munich</td>\n",
       "      <td>01/09/2023</td>\n",
       "      <td>no</td>\n",
       "      <td>Verified</td>\n",
       "      <td>2</td>\n",
       "      <td>2</td>\n",
       "      <td>1</td>\n",
       "      <td>2</td>\n",
       "      <td>1</td>\n",
       "      <td>1</td>\n",
       "      <td>-1</td>\n",
       "    </tr>\n",
       "    <tr>\n",
       "      <th>2</th>\n",
       "      <td>won the race to the bottom\"</td>\n",
       "      <td>John Rockett</td>\n",
       "      <td>02/10/2023</td>\n",
       "      <td>United Kingdom</td>\n",
       "      <td>Awful. Business class check in queue just as...</td>\n",
       "      <td>A320</td>\n",
       "      <td>Couple Leisure</td>\n",
       "      <td>Business Class</td>\n",
       "      <td>Heathrow to Istanbul</td>\n",
       "      <td>01/09/2023</td>\n",
       "      <td>no</td>\n",
       "      <td>Not Verified</td>\n",
       "      <td>2</td>\n",
       "      <td>2</td>\n",
       "      <td>3</td>\n",
       "      <td>2</td>\n",
       "      <td>1</td>\n",
       "      <td>1</td>\n",
       "      <td>-1</td>\n",
       "    </tr>\n",
       "    <tr>\n",
       "      <th>3</th>\n",
       "      <td>Not a reliable airline</td>\n",
       "      <td>Tatiana Bobrovskaya</td>\n",
       "      <td>02/10/2023</td>\n",
       "      <td>United Kingdom</td>\n",
       "      <td>Not a reliable airline. You cannot trust the...</td>\n",
       "      <td>A320</td>\n",
       "      <td>Business</td>\n",
       "      <td>Economy Class</td>\n",
       "      <td>London to Geneva</td>\n",
       "      <td>01/10/2023</td>\n",
       "      <td>no</td>\n",
       "      <td>Verified</td>\n",
       "      <td>3</td>\n",
       "      <td>4</td>\n",
       "      <td>4</td>\n",
       "      <td>2</td>\n",
       "      <td>1</td>\n",
       "      <td>1</td>\n",
       "      <td>-1</td>\n",
       "    </tr>\n",
       "    <tr>\n",
       "      <th>4</th>\n",
       "      <td>Very disappointed</td>\n",
       "      <td>Tom Slowbe</td>\n",
       "      <td>28/09/2023</td>\n",
       "      <td>United States</td>\n",
       "      <td>The airplanes and the lounges are worn out, o...</td>\n",
       "      <td>777-300 and A320</td>\n",
       "      <td>Couple Leisure</td>\n",
       "      <td>First Class</td>\n",
       "      <td>Dallas to Dubrovnik via Heathrow</td>\n",
       "      <td>01/09/2023</td>\n",
       "      <td>no</td>\n",
       "      <td>Verified</td>\n",
       "      <td>1</td>\n",
       "      <td>1</td>\n",
       "      <td>4</td>\n",
       "      <td>4</td>\n",
       "      <td>3</td>\n",
       "      <td>2</td>\n",
       "      <td>3</td>\n",
       "    </tr>\n",
       "  </tbody>\n",
       "</table>\n",
       "</div>"
      ],
      "text/plain": [
       "                             header               author        date  \\\n",
       "0      service was mediocre at best          Gary Storer  03/10/2023   \n",
       "1  BA standards continue to decline             A Jensen  02/10/2023   \n",
       "2      won the race to the bottom\"          John Rockett  02/10/2023   \n",
       "3            Not a reliable airline  Tatiana Bobrovskaya  02/10/2023   \n",
       "4                 Very disappointed           Tom Slowbe  28/09/2023   \n",
       "\n",
       "            place                                            content  \\\n",
       "0  United Kingdom   Just returned from Chicago, flew out 10 days ...   \n",
       "1  United Kingdom    BA standards continue to decline every time ...   \n",
       "2  United Kingdom    Awful. Business class check in queue just as...   \n",
       "3  United Kingdom    Not a reliable airline. You cannot trust the...   \n",
       "4   United States   The airplanes and the lounges are worn out, o...   \n",
       "\n",
       "           aircraft  traveller_type       seat_type  \\\n",
       "0              A380  Couple Leisure   Economy Class   \n",
       "1              A320        Business  Business Class   \n",
       "2              A320  Couple Leisure  Business Class   \n",
       "3              A320        Business   Economy Class   \n",
       "4  777-300 and A320  Couple Leisure     First Class   \n",
       "\n",
       "                                route  date_flown recommended trip_verified  \\\n",
       "0  Chicago to Manchester via Heathrow  01/10/2023          no  Not Verified   \n",
       "1           London Heathrow to Munich  01/09/2023          no      Verified   \n",
       "2                Heathrow to Istanbul  01/09/2023          no  Not Verified   \n",
       "3                    London to Geneva  01/10/2023          no      Verified   \n",
       "4    Dallas to Dubrovnik via Heathrow  01/09/2023          no      Verified   \n",
       "\n",
       "   rating  seat_comfort  cabin_staff_service  food_beverages  ground_service  \\\n",
       "0       2             2                    3               1               2   \n",
       "1       2             2                    1               2               1   \n",
       "2       2             2                    3               2               1   \n",
       "3       3             4                    4               2               1   \n",
       "4       1             1                    4               4               3   \n",
       "\n",
       "   value_for_money  entertainment  \n",
       "0                2             -1  \n",
       "1                1             -1  \n",
       "2                1             -1  \n",
       "3                1             -1  \n",
       "4                2              3  "
      ]
     },
     "execution_count": 3,
     "metadata": {},
     "output_type": "execute_result"
    }
   ],
   "source": [
    "df.head()"
   ]
  },
  {
   "cell_type": "code",
   "execution_count": 9,
   "metadata": {},
   "outputs": [
    {
     "data": {
      "text/plain": [
       "Index(['header', 'author', 'date', 'place', 'content', 'aircraft',\n",
       "       'traveller_type', 'seat_type', 'route', 'date_flown', 'recommended',\n",
       "       'trip_verified', 'rating', 'seat_comfort', 'cabin_staff_service',\n",
       "       'food_beverages', 'ground_service', 'value_for_money', 'entertainment'],\n",
       "      dtype='object')"
      ]
     },
     "execution_count": 9,
     "metadata": {},
     "output_type": "execute_result"
    }
   ],
   "source": [
    "df.columns"
   ]
  },
  {
   "cell_type": "code",
   "execution_count": 10,
   "metadata": {},
   "outputs": [
    {
     "name": "stdout",
     "output_type": "stream",
     "text": [
      "<class 'pandas.core.frame.DataFrame'>\n",
      "RangeIndex: 1324 entries, 0 to 1323\n",
      "Data columns (total 19 columns):\n",
      " #   Column               Non-Null Count  Dtype \n",
      "---  ------               --------------  ----- \n",
      " 0   header               1324 non-null   object\n",
      " 1   author               1324 non-null   object\n",
      " 2   date                 1324 non-null   object\n",
      " 3   place                1324 non-null   object\n",
      " 4   content              1324 non-null   object\n",
      " 5   aircraft             1324 non-null   object\n",
      " 6   traveller_type       1323 non-null   object\n",
      " 7   seat_type            1324 non-null   object\n",
      " 8   route                1324 non-null   object\n",
      " 9   date_flown           1324 non-null   object\n",
      " 10  recommended          1324 non-null   object\n",
      " 11  trip_verified        1324 non-null   object\n",
      " 12  rating               1324 non-null   int64 \n",
      " 13  seat_comfort         1324 non-null   int64 \n",
      " 14  cabin_staff_service  1324 non-null   int64 \n",
      " 15  food_beverages       1324 non-null   int64 \n",
      " 16  ground_service       1324 non-null   int64 \n",
      " 17  value_for_money      1324 non-null   int64 \n",
      " 18  entertainment        1324 non-null   int64 \n",
      "dtypes: int64(7), object(12)\n",
      "memory usage: 196.7+ KB\n"
     ]
    }
   ],
   "source": [
    "df.info()"
   ]
  },
  {
   "cell_type": "code",
   "execution_count": 11,
   "metadata": {},
   "outputs": [
    {
     "data": {
      "text/plain": [
       "header                 0\n",
       "author                 0\n",
       "date                   0\n",
       "place                  0\n",
       "content                0\n",
       "aircraft               0\n",
       "traveller_type         1\n",
       "seat_type              0\n",
       "route                  0\n",
       "date_flown             0\n",
       "recommended            0\n",
       "trip_verified          0\n",
       "rating                 0\n",
       "seat_comfort           0\n",
       "cabin_staff_service    0\n",
       "food_beverages         0\n",
       "ground_service         0\n",
       "value_for_money        0\n",
       "entertainment          0\n",
       "dtype: int64"
      ]
     },
     "execution_count": 11,
     "metadata": {},
     "output_type": "execute_result"
    }
   ],
   "source": [
    "df.isnull().sum()"
   ]
  }
 ],
 "metadata": {
  "kernelspec": {
   "display_name": "base",
   "language": "python",
   "name": "python3"
  },
  "language_info": {
   "codemirror_mode": {
    "name": "ipython",
    "version": 3
   },
   "file_extension": ".py",
   "mimetype": "text/x-python",
   "name": "python",
   "nbconvert_exporter": "python",
   "pygments_lexer": "ipython3",
   "version": "3.7.9"
  }
 },
 "nbformat": 4,
 "nbformat_minor": 2
}
